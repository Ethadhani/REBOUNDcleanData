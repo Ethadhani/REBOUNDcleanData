{
 "cells": [
  {
   "cell_type": "markdown",
   "metadata": {},
   "source": [
    "# Need to clone my (dtamayo) REBOUND fork specifically, i.e., \n",
    "\n",
    "git clone https://github.com/dtamayo/rebound.git\n",
    "\n",
    "- For resonant systems use commit 6fb912f615ca542b670ab591375191d1ed914672\n",
    "- For random systems use commit 4a6c79ae14ffde27828dd9d1f8d8afeba94ef048\n"
   ]
  },
  {
   "cell_type": "code",
   "execution_count": 1,
   "metadata": {},
   "outputs": [
    {
     "name": "stderr",
     "output_type": "stream",
     "text": [
      "/mnt/ssd/home/dtamayo/workspace/rebound/rebound/simulation.py:766: SyntaxWarning: \"is\" with 'str' literal. Did you mean \"==\"?\n",
      "  if func is \"merge\":\n",
      "/mnt/ssd/home/dtamayo/workspace/rebound/rebound/simulation.py:769: SyntaxWarning: \"is\" with 'str' literal. Did you mean \"==\"?\n",
      "  elif func is \"hardsphere\":\n",
      "/mnt/ssd/home/dtamayo/workspace/rebound/rebound/units.py:96: SyntaxWarning: \"is not\" with 'int' literal. Did you mean \"!=\"?\n",
      "  if len(newunits) is not 3:\n",
      "/mnt/ssd/home/dtamayo/workspace/rebound/rebound/horizons.py:65: SyntaxWarning: invalid escape sequence '\\['\n",
      "  ( b'Accept default output \\[.*:', 'n\\n' ),\n",
      "/mnt/ssd/home/dtamayo/workspace/rebound/rebound/horizons.py:66: SyntaxWarning: invalid escape sequence '\\['\n",
      "  ( b'Output reference frame \\[.*:', 'J2000\\n' ),\n",
      "/mnt/ssd/home/dtamayo/workspace/rebound/rebound/horizons.py:67: SyntaxWarning: invalid escape sequence '\\['\n",
      "  ( b'Corrections \\[.*:', 'NONE\\n' ),\n",
      "/mnt/ssd/home/dtamayo/workspace/rebound/rebound/horizons.py:68: SyntaxWarning: invalid escape sequence '\\['\n",
      "  ( b'Output units \\[.*:', '1\\n' ),\n",
      "/mnt/ssd/home/dtamayo/workspace/rebound/rebound/horizons.py:69: SyntaxWarning: invalid escape sequence '\\['\n",
      "  ( b'Spreadsheet CSV format.*\\[.*:', 'NO\\n' ),\n",
      "/mnt/ssd/home/dtamayo/workspace/rebound/rebound/horizons.py:70: SyntaxWarning: invalid escape sequence '\\['\n",
      "  ( b'Output delta.*\\[.*:', 'NO\\n' ),\n",
      "/mnt/ssd/home/dtamayo/workspace/rebound/rebound/horizons.py:71: SyntaxWarning: invalid escape sequence '\\['\n",
      "  ( b'Select output table type.*\\[.*:', '3\\n' ),\n",
      "/mnt/ssd/home/dtamayo/workspace/rebound/rebound/horizons.py:72: SyntaxWarning: invalid escape sequence '\\['\n",
      "  ( b'Label cartesian output.*\\[.*:', 'NO\\n' ),\n",
      "/mnt/ssd/home/dtamayo/workspace/rebound/rebound/horizons.py:74: SyntaxWarning: invalid escape sequence '\\.'\n",
      "  ( b'Select\\.\\.\\. .A.gain.* :', 'X\\n' ),\n",
      "/mnt/ssd/home/dtamayo/workspace/rebound/rebound/horizons.py:75: SyntaxWarning: invalid escape sequence '\\.'\n",
      "  ( b'Select \\.\\.\\. .F.tp.*:', 'selectID' )\n"
     ]
    },
    {
     "data": {
      "text/plain": [
       "'3.8.3'"
      ]
     },
     "execution_count": 1,
     "metadata": {},
     "output_type": "execute_result"
    }
   ],
   "source": [
    "import numpy as np\n",
    "import matplotlib.pyplot as plt\n",
    "import pandas as pd\n",
    "%matplotlib inline\n",
    "import rebound\n",
    "rebound.__version__"
   ]
  },
  {
   "cell_type": "markdown",
   "metadata": {},
   "source": [
    "# Need to edit datafolder below to your own path"
   ]
  },
  {
   "cell_type": "code",
   "execution_count": 2,
   "metadata": {},
   "outputs": [],
   "source": [
    "datafolder = '/home/dtamayo/workspace/data/'\n",
    "\n",
    "def collision(reb_sim, col):\n",
    "    reb_sim.contents._status = 5\n",
    "    return 0"
   ]
  },
  {
   "cell_type": "markdown",
   "metadata": {},
   "source": [
    "# Random"
   ]
  },
  {
   "cell_type": "markdown",
   "metadata": {},
   "source": [
    "# Rerunning from last (or any) snapshot"
   ]
  },
  {
   "cell_type": "code",
   "execution_count": 16,
   "metadata": {},
   "outputs": [
    {
     "name": "stdout",
     "output_type": "stream",
     "text": [
      "---------------------------------\n",
      "REBOUND version:     \t3.4.0\n",
      "REBOUND built on:    \tJul  2 2024 17:14:49\n",
      "Number of particles: \t4\n",
      "Selected integrator: \twhfast\n",
      "Simulation time:     \t2.0000000211196817e+06\n",
      "Current timestep:    \t0.034640\n",
      "---------------------------------\n",
      "<rebound.Particle object, m=1.0 x=-1.851704253568108e-05 y=4.430555544564171e-07 z=4.2929987064980875e-07 vx=5.427997318285949e-05 vy=-0.00011981920270492485 vz=2.7270879679879146e-06>\n",
      "<rebound.Particle object, m=3.4140160192072926e-05 x=0.6505455610721905 y=0.7578296626173221 z=-0.0062144536095948485 vx=-4.85054625151075 vy=4.004600308357132 vz=-0.01905023906872239>\n",
      "<rebound.Particle object, m=1.8787249753397036e-05 x=-0.20160115464374048 y=-1.2398495425382028 z=-0.003817288821332816 vx=5.442378664350001 vy=-0.8010019353432719 vz=-0.08583021200508456>\n",
      "<rebound.Particle object, m=1.8268998599127623e-06 x=0.05191533676543384 y=-1.6542333171913126 z=-0.07959991329341315 vx=4.965310820871533 vy=-1.0125732427677636 vz=-0.2540895291217941>\n",
      "---------------------------------\n",
      "CPU times: user 26.3 s, sys: 0 ns, total: 26.3 s\n",
      "Wall time: 26.3 s\n"
     ]
    }
   ],
   "source": [
    "%%time\n",
    "sa = rebound.SimulationArchive(datafolder+'random/simulation_archives/runs/sa0000000.bin')\n",
    "tmax = sa[2].t\n",
    "sim = sa[1]\n",
    "sim.integrator_synchronize()\n",
    "sim.collision_resolve = collision\n",
    "sim.ri_whfast.keep_unsynchronized = 1\n",
    "sim.integrate(tmax, exact_finish_time=0)\n",
    "sim.status()"
   ]
  },
  {
   "cell_type": "code",
   "execution_count": 17,
   "metadata": {},
   "outputs": [
    {
     "name": "stdout",
     "output_type": "stream",
     "text": [
      "---------------------------------\n",
      "REBOUND version:     \t3.4.0\n",
      "REBOUND built on:    \tJul  2 2024 17:14:49\n",
      "Number of particles: \t4\n",
      "Selected integrator: \twhfast\n",
      "Simulation time:     \t2.0000000211196817e+06\n",
      "Current timestep:    \t0.034640\n",
      "---------------------------------\n",
      "<rebound.Particle object, m=1.0 x=-1.851704253568108e-05 y=4.430555544564171e-07 z=4.2929987064980875e-07 vx=5.427997318285949e-05 vy=-0.00011981920270492485 vz=2.7270879679879146e-06>\n",
      "<rebound.Particle object, m=3.4140160192072926e-05 x=0.6505455610721905 y=0.7578296626173221 z=-0.0062144536095948485 vx=-4.85054625151075 vy=4.004600308357132 vz=-0.01905023906872239>\n",
      "<rebound.Particle object, m=1.8787249753397036e-05 x=-0.20160115464374048 y=-1.2398495425382028 z=-0.003817288821332816 vx=5.442378664350001 vy=-0.8010019353432719 vz=-0.08583021200508456>\n",
      "<rebound.Particle object, m=1.8268998599127623e-06 x=0.05191533676543384 y=-1.6542333171913126 z=-0.07959991329341315 vx=4.965310820871533 vy=-1.0125732427677636 vz=-0.2540895291217941>\n",
      "---------------------------------\n"
     ]
    }
   ],
   "source": [
    "sim = sa[2]\n",
    "sim.integrator_synchronize() # need this step with new sim archive because we used safe_mode = 0\n",
    "sim.status()"
   ]
  },
  {
   "cell_type": "markdown",
   "metadata": {},
   "source": [
    "# We could therefore reload the last snapshot of a stable sim and keep running like this"
   ]
  },
  {
   "cell_type": "code",
   "execution_count": 15,
   "metadata": {},
   "outputs": [
    {
     "name": "stdout",
     "output_type": "stream",
     "text": [
      "CPU times: user 368 μs, sys: 4 ms, total: 4.37 ms\n",
      "Wall time: 17.3 ms\n"
     ]
    },
    {
     "name": "stderr",
     "output_type": "stream",
     "text": [
      "/mnt/ssd/home/dtamayo/workspace/rebound/rebound/simulationarchive.py:83: RuntimeWarning: Binary file was saved with a different version of REBOUND. Binary format might have changed.\n",
      "  warnings.warn(message, RuntimeWarning)\n",
      "/mnt/ssd/home/dtamayo/workspace/rebound/rebound/simulationarchive.py:123: RuntimeWarning: Binary file was saved with a different version of REBOUND. Binary format might have changed.\n",
      "  warnings.warn(message, RuntimeWarning)\n",
      "/mnt/ssd/home/dtamayo/workspace/rebound/rebound/simulationarchive.py:123: RuntimeWarning: You have to reset function pointers after creating a reb_simulation struct with a binary file.\n",
      "  warnings.warn(message, RuntimeWarning)\n",
      "/mnt/ssd/home/dtamayo/workspace/rebound/rebound/simulationarchive.py:123: RuntimeWarning: Encountered unkown field in file. File might have been saved with a different version of REBOUND.\n",
      "  warnings.warn(message, RuntimeWarning)\n"
     ]
    }
   ],
   "source": [
    "%%time\n",
    "sa = rebound.SimulationArchive(datafolder+'random/simulation_archives/runs/sa0000003.bin')\n",
    "sim = sa[-1]\n",
    "sim.integrator_synchronize()\n",
    "sim.collision_resolve = collision\n",
    "sim.ri_whfast.keep_unsynchronized = 1"
   ]
  },
  {
   "cell_type": "markdown",
   "metadata": {},
   "source": [
    "# Check the simulation time is at 1e9"
   ]
  },
  {
   "cell_type": "code",
   "execution_count": 23,
   "metadata": {},
   "outputs": [
    {
     "name": "stdout",
     "output_type": "stream",
     "text": [
      "CPU times: user 3.59 ms, sys: 0 ns, total: 3.59 ms\n",
      "Wall time: 16.2 ms\n"
     ]
    },
    {
     "data": {
      "text/plain": [
       "1000000000.0"
      ]
     },
     "execution_count": 23,
     "metadata": {},
     "output_type": "execute_result"
    }
   ],
   "source": [
    "sim.t"
   ]
  },
  {
   "cell_type": "markdown",
   "metadata": {},
   "source": [
    "# Run for some time larger than 1e9\n",
    "\n",
    "Note the time should the time you want to run TO (not the deltaT), so choose something larger than 1e9. I chose something that would run quickly. We need to check for collisions like this (or if sim.t is not the time we put in)"
   ]
  },
  {
   "cell_type": "code",
   "execution_count": null,
   "metadata": {},
   "outputs": [],
   "source": [
    "sim.integrate(1.0001e9, exact_finish_time=0)\n",
    "if sim._status == 5:\n",
    "    print('collision')"
   ]
  },
  {
   "cell_type": "markdown",
   "metadata": {},
   "source": [
    "# Checking the last snapshot for ejection"
   ]
  },
  {
   "cell_type": "code",
   "execution_count": 4,
   "metadata": {},
   "outputs": [
    {
     "data": {
      "image/png": "[encoded data removed]",
      "text/plain": [
       "<Figure size 500x500 with 1 Axes>"
      ]
     },
     "metadata": {},
     "output_type": "display_data"
    }
   ],
   "source": [
    "sa = rebound.SimulationArchive(datafolder+'random/simulation_archives/runs/sa0001311.bin')\n",
    "sim = sa[-1]\n",
    "fig = rebound.OrbitPlot(sim)"
   ]
  },
  {
   "cell_type": "code",
   "execution_count": 31,
   "metadata": {},
   "outputs": [],
   "source": [
    "def test_ejection(row):\n",
    "    sa = rebound.SimulationArchive(datafolder+'random/simulation_archives/runs/sa'+row['runstring'])\n",
    "    sim = sa[-1]\n",
    "\n",
    "    ejection = False\n",
    "    for p in sim.particles[1:]:\n",
    "        if p.a < 0:\n",
    "            ejection = True\n",
    "    return ejection"
   ]
  },
  {
   "cell_type": "code",
   "execution_count": 42,
   "metadata": {},
   "outputs": [
    {
     "name": "stdout",
     "output_type": "stream",
     "text": [
      "Num ejections =  59\n",
      "CPU times: user 2.21 s, sys: 636 ms, total: 2.84 s\n",
      "Wall time: 2.85 s\n"
     ]
    }
   ],
   "source": [
    "%%time\n",
    "df = pd.read_csv(datafolder+'random/random.csv', index_col=0)\n",
    "df['ejection'] = df.apply(test_ejection, axis=1)\n",
    "df.to_csv('randomejections.csv', encoding='ascii')\n",
    "print('Num ejections = ', df['ejection'].sum())"
   ]
  },
  {
   "cell_type": "code",
   "execution_count": 43,
   "metadata": {},
   "outputs": [
    {
     "data": {
      "text/html": [
       "<div>\n",
       "<style scoped>\n",
       "    .dataframe tbody tr th:only-of-type {\n",
       "        vertical-align: middle;\n",
       "    }\n",
       "\n",
       "    .dataframe tbody tr th {\n",
       "        vertical-align: top;\n",
       "    }\n",
       "\n",
       "    .dataframe thead th {\n",
       "        text-align: right;\n",
       "    }\n",
       "</style>\n",
       "<table border=\"1\" class=\"dataframe\">\n",
       "  <thead>\n",
       "    <tr style=\"text-align: right;\">\n",
       "      <th></th>\n",
       "      <th>runstring</th>\n",
       "      <th>ejection</th>\n",
       "    </tr>\n",
       "  </thead>\n",
       "  <tbody>\n",
       "    <tr>\n",
       "      <th>770</th>\n",
       "      <td>0000770.bin</td>\n",
       "      <td>True</td>\n",
       "    </tr>\n",
       "    <tr>\n",
       "      <th>855</th>\n",
       "      <td>0000855.bin</td>\n",
       "      <td>True</td>\n",
       "    </tr>\n",
       "    <tr>\n",
       "      <th>1311</th>\n",
       "      <td>0001311.bin</td>\n",
       "      <td>True</td>\n",
       "    </tr>\n",
       "    <tr>\n",
       "      <th>2033</th>\n",
       "      <td>0002033.bin</td>\n",
       "      <td>True</td>\n",
       "    </tr>\n",
       "    <tr>\n",
       "      <th>2208</th>\n",
       "      <td>0002208.bin</td>\n",
       "      <td>True</td>\n",
       "    </tr>\n",
       "    <tr>\n",
       "      <th>2279</th>\n",
       "      <td>0002279.bin</td>\n",
       "      <td>True</td>\n",
       "    </tr>\n",
       "    <tr>\n",
       "      <th>2356</th>\n",
       "      <td>0002356.bin</td>\n",
       "      <td>True</td>\n",
       "    </tr>\n",
       "    <tr>\n",
       "      <th>2471</th>\n",
       "      <td>0002471.bin</td>\n",
       "      <td>True</td>\n",
       "    </tr>\n",
       "    <tr>\n",
       "      <th>3552</th>\n",
       "      <td>0003552.bin</td>\n",
       "      <td>True</td>\n",
       "    </tr>\n",
       "    <tr>\n",
       "      <th>3567</th>\n",
       "      <td>0003567.bin</td>\n",
       "      <td>True</td>\n",
       "    </tr>\n",
       "    <tr>\n",
       "      <th>3680</th>\n",
       "      <td>0003680.bin</td>\n",
       "      <td>True</td>\n",
       "    </tr>\n",
       "    <tr>\n",
       "      <th>3887</th>\n",
       "      <td>0003887.bin</td>\n",
       "      <td>True</td>\n",
       "    </tr>\n",
       "    <tr>\n",
       "      <th>4148</th>\n",
       "      <td>0004148.bin</td>\n",
       "      <td>True</td>\n",
       "    </tr>\n",
       "    <tr>\n",
       "      <th>4490</th>\n",
       "      <td>0004490.bin</td>\n",
       "      <td>True</td>\n",
       "    </tr>\n",
       "    <tr>\n",
       "      <th>4755</th>\n",
       "      <td>0004755.bin</td>\n",
       "      <td>True</td>\n",
       "    </tr>\n",
       "    <tr>\n",
       "      <th>5470</th>\n",
       "      <td>0005470.bin</td>\n",
       "      <td>True</td>\n",
       "    </tr>\n",
       "    <tr>\n",
       "      <th>5863</th>\n",
       "      <td>0005863.bin</td>\n",
       "      <td>True</td>\n",
       "    </tr>\n",
       "    <tr>\n",
       "      <th>7122</th>\n",
       "      <td>0007122.bin</td>\n",
       "      <td>True</td>\n",
       "    </tr>\n",
       "    <tr>\n",
       "      <th>7358</th>\n",
       "      <td>0007358.bin</td>\n",
       "      <td>True</td>\n",
       "    </tr>\n",
       "    <tr>\n",
       "      <th>7739</th>\n",
       "      <td>0007739.bin</td>\n",
       "      <td>True</td>\n",
       "    </tr>\n",
       "    <tr>\n",
       "      <th>8170</th>\n",
       "      <td>0008170.bin</td>\n",
       "      <td>True</td>\n",
       "    </tr>\n",
       "    <tr>\n",
       "      <th>9474</th>\n",
       "      <td>0009474.bin</td>\n",
       "      <td>True</td>\n",
       "    </tr>\n",
       "    <tr>\n",
       "      <th>9779</th>\n",
       "      <td>0009779.bin</td>\n",
       "      <td>True</td>\n",
       "    </tr>\n",
       "    <tr>\n",
       "      <th>10530</th>\n",
       "      <td>0010530.bin</td>\n",
       "      <td>True</td>\n",
       "    </tr>\n",
       "    <tr>\n",
       "      <th>10976</th>\n",
       "      <td>0010976.bin</td>\n",
       "      <td>True</td>\n",
       "    </tr>\n",
       "    <tr>\n",
       "      <th>11186</th>\n",
       "      <td>0011186.bin</td>\n",
       "      <td>True</td>\n",
       "    </tr>\n",
       "    <tr>\n",
       "      <th>11904</th>\n",
       "      <td>0011904.bin</td>\n",
       "      <td>True</td>\n",
       "    </tr>\n",
       "    <tr>\n",
       "      <th>12397</th>\n",
       "      <td>0012397.bin</td>\n",
       "      <td>True</td>\n",
       "    </tr>\n",
       "    <tr>\n",
       "      <th>12796</th>\n",
       "      <td>0012796.bin</td>\n",
       "      <td>True</td>\n",
       "    </tr>\n",
       "    <tr>\n",
       "      <th>12919</th>\n",
       "      <td>0012919.bin</td>\n",
       "      <td>True</td>\n",
       "    </tr>\n",
       "    <tr>\n",
       "      <th>13028</th>\n",
       "      <td>0013028.bin</td>\n",
       "      <td>True</td>\n",
       "    </tr>\n",
       "    <tr>\n",
       "      <th>14253</th>\n",
       "      <td>0014253.bin</td>\n",
       "      <td>True</td>\n",
       "    </tr>\n",
       "    <tr>\n",
       "      <th>14358</th>\n",
       "      <td>0014358.bin</td>\n",
       "      <td>True</td>\n",
       "    </tr>\n",
       "    <tr>\n",
       "      <th>15527</th>\n",
       "      <td>0015527.bin</td>\n",
       "      <td>True</td>\n",
       "    </tr>\n",
       "    <tr>\n",
       "      <th>16294</th>\n",
       "      <td>0016294.bin</td>\n",
       "      <td>True</td>\n",
       "    </tr>\n",
       "    <tr>\n",
       "      <th>16308</th>\n",
       "      <td>0016308.bin</td>\n",
       "      <td>True</td>\n",
       "    </tr>\n",
       "    <tr>\n",
       "      <th>16552</th>\n",
       "      <td>0016552.bin</td>\n",
       "      <td>True</td>\n",
       "    </tr>\n",
       "    <tr>\n",
       "      <th>16601</th>\n",
       "      <td>0016601.bin</td>\n",
       "      <td>True</td>\n",
       "    </tr>\n",
       "    <tr>\n",
       "      <th>17126</th>\n",
       "      <td>0017126.bin</td>\n",
       "      <td>True</td>\n",
       "    </tr>\n",
       "    <tr>\n",
       "      <th>17707</th>\n",
       "      <td>0017707.bin</td>\n",
       "      <td>True</td>\n",
       "    </tr>\n",
       "    <tr>\n",
       "      <th>18054</th>\n",
       "      <td>0018054.bin</td>\n",
       "      <td>True</td>\n",
       "    </tr>\n",
       "    <tr>\n",
       "      <th>18776</th>\n",
       "      <td>0018776.bin</td>\n",
       "      <td>True</td>\n",
       "    </tr>\n",
       "    <tr>\n",
       "      <th>18882</th>\n",
       "      <td>0018882.bin</td>\n",
       "      <td>True</td>\n",
       "    </tr>\n",
       "    <tr>\n",
       "      <th>18964</th>\n",
       "      <td>0018964.bin</td>\n",
       "      <td>True</td>\n",
       "    </tr>\n",
       "    <tr>\n",
       "      <th>20331</th>\n",
       "      <td>0020331.bin</td>\n",
       "      <td>True</td>\n",
       "    </tr>\n",
       "    <tr>\n",
       "      <th>20333</th>\n",
       "      <td>0020333.bin</td>\n",
       "      <td>True</td>\n",
       "    </tr>\n",
       "    <tr>\n",
       "      <th>20594</th>\n",
       "      <td>0020594.bin</td>\n",
       "      <td>True</td>\n",
       "    </tr>\n",
       "    <tr>\n",
       "      <th>20610</th>\n",
       "      <td>0020610.bin</td>\n",
       "      <td>True</td>\n",
       "    </tr>\n",
       "    <tr>\n",
       "      <th>21148</th>\n",
       "      <td>0021148.bin</td>\n",
       "      <td>True</td>\n",
       "    </tr>\n",
       "    <tr>\n",
       "      <th>21483</th>\n",
       "      <td>0021483.bin</td>\n",
       "      <td>True</td>\n",
       "    </tr>\n",
       "    <tr>\n",
       "      <th>21512</th>\n",
       "      <td>0021512.bin</td>\n",
       "      <td>True</td>\n",
       "    </tr>\n",
       "    <tr>\n",
       "      <th>21756</th>\n",
       "      <td>0021756.bin</td>\n",
       "      <td>True</td>\n",
       "    </tr>\n",
       "    <tr>\n",
       "      <th>21958</th>\n",
       "      <td>0021958.bin</td>\n",
       "      <td>True</td>\n",
       "    </tr>\n",
       "    <tr>\n",
       "      <th>22240</th>\n",
       "      <td>0022240.bin</td>\n",
       "      <td>True</td>\n",
       "    </tr>\n",
       "    <tr>\n",
       "      <th>22465</th>\n",
       "      <td>0022465.bin</td>\n",
       "      <td>True</td>\n",
       "    </tr>\n",
       "    <tr>\n",
       "      <th>22538</th>\n",
       "      <td>0022538.bin</td>\n",
       "      <td>True</td>\n",
       "    </tr>\n",
       "    <tr>\n",
       "      <th>23203</th>\n",
       "      <td>0023203.bin</td>\n",
       "      <td>True</td>\n",
       "    </tr>\n",
       "    <tr>\n",
       "      <th>23816</th>\n",
       "      <td>0023816.bin</td>\n",
       "      <td>True</td>\n",
       "    </tr>\n",
       "    <tr>\n",
       "      <th>24452</th>\n",
       "      <td>0024452.bin</td>\n",
       "      <td>True</td>\n",
       "    </tr>\n",
       "  </tbody>\n",
       "</table>\n",
       "</div>"
      ],
      "text/plain": [
       "         runstring  ejection\n",
       "770    0000770.bin      True\n",
       "855    0000855.bin      True\n",
       "1311   0001311.bin      True\n",
       "2033   0002033.bin      True\n",
       "2208   0002208.bin      True\n",
       "2279   0002279.bin      True\n",
       "2356   0002356.bin      True\n",
       "2471   0002471.bin      True\n",
       "3552   0003552.bin      True\n",
       "3567   0003567.bin      True\n",
       "3680   0003680.bin      True\n",
       "3887   0003887.bin      True\n",
       "4148   0004148.bin      True\n",
       "4490   0004490.bin      True\n",
       "4755   0004755.bin      True\n",
       "5470   0005470.bin      True\n",
       "5863   0005863.bin      True\n",
       "7122   0007122.bin      True\n",
       "7358   0007358.bin      True\n",
       "7739   0007739.bin      True\n",
       "8170   0008170.bin      True\n",
       "9474   0009474.bin      True\n",
       "9779   0009779.bin      True\n",
       "10530  0010530.bin      True\n",
       "10976  0010976.bin      True\n",
       "11186  0011186.bin      True\n",
       "11904  0011904.bin      True\n",
       "12397  0012397.bin      True\n",
       "12796  0012796.bin      True\n",
       "12919  0012919.bin      True\n",
       "13028  0013028.bin      True\n",
       "14253  0014253.bin      True\n",
       "14358  0014358.bin      True\n",
       "15527  0015527.bin      True\n",
       "16294  0016294.bin      True\n",
       "16308  0016308.bin      True\n",
       "16552  0016552.bin      True\n",
       "16601  0016601.bin      True\n",
       "17126  0017126.bin      True\n",
       "17707  0017707.bin      True\n",
       "18054  0018054.bin      True\n",
       "18776  0018776.bin      True\n",
       "18882  0018882.bin      True\n",
       "18964  0018964.bin      True\n",
       "20331  0020331.bin      True\n",
       "20333  0020333.bin      True\n",
       "20594  0020594.bin      True\n",
       "20610  0020610.bin      True\n",
       "21148  0021148.bin      True\n",
       "21483  0021483.bin      True\n",
       "21512  0021512.bin      True\n",
       "21756  0021756.bin      True\n",
       "21958  0021958.bin      True\n",
       "22240  0022240.bin      True\n",
       "22465  0022465.bin      True\n",
       "22538  0022538.bin      True\n",
       "23203  0023203.bin      True\n",
       "23816  0023816.bin      True\n",
       "24452  0024452.bin      True"
      ]
     },
     "execution_count": 43,
     "metadata": {},
     "output_type": "execute_result"
    }
   ],
   "source": [
    "df = pd.read_csv('randomejections.csv', index_col=0)\n",
    "ejections = df[df['ejection']==True]\n",
    "ejections"
   ]
  },
  {
   "cell_type": "markdown",
   "metadata": {},
   "source": [
    "# Resonant\n",
    "\n",
    "For the resonant ones we can check for collisions with a more intuitive try except block. "
   ]
  },
  {
   "cell_type": "code",
   "execution_count": 13,
   "metadata": {},
   "outputs": [
    {
     "name": "stdout",
     "output_type": "stream",
     "text": [
      "collision at t= 1572166.7220307563\n",
      "CPU times: user 17.4 s, sys: 0 ns, total: 17.4 s\n",
      "Wall time: 17.4 s\n"
     ]
    }
   ],
   "source": [
    "%%time\n",
    "sa = rebound.SimulationArchive(datafolder+'resonant/simulation_archives/runs/sa0000000.bin')\n",
    "tmax = sa[2].t\n",
    "sim = sa[1]\n",
    "sim.integrator_synchronize()\n",
    "try:\n",
    "    sim.integrate(1e9, exact_finish_time=0)\n",
    "except:\n",
    "    print('collision at t=', sim.t)"
   ]
  },
  {
   "cell_type": "code",
   "execution_count": 14,
   "metadata": {},
   "outputs": [
    {
     "name": "stdout",
     "output_type": "stream",
     "text": [
      "---------------------------------\n",
      "REBOUND version:     \t3.6.1\n",
      "REBOUND built on:    \tJul  2 2024 22:37:48\n",
      "Number of particles: \t4\n",
      "Selected integrator: \twhfast\n",
      "Simulation time:     \t1.5458722854223710e+06\n",
      "Current timestep:    \t0.034641\n",
      "---------------------------------\n",
      "<rebound.Particle object, m=0.9999960150799597 x=-1.3452787937215021e-05 y=-1.229323882801286e-05 z=4.4182823315334517e-08 vx=3.637618966206748e-05 vy=-5.255295181258874e-05 vz=4.0678496749271823e-07>\n",
      "<rebound.Particle object, m=3.984920040268468e-06 x=0.6447261874012978 y=-0.7661304346468621 z=0.002066834173006789 vx=4.741921015648995 vy=4.109696403024398 vz=-0.009251417886986734>\n",
      "<rebound.Particle object, m=1.2444171101394952e-05 x=0.8567439366026361 y=1.208187359189252 z=-0.004097965474559257 vx=-4.352941091406819 vy=2.84713665158252 vz=-0.035167141084396954>\n",
      "<rebound.Particle object, m=2.531702420746453e-07 x=0.877211625484106 y=1.2294815758899236 z=-0.005620852759062533 vx=-4.358636487796651 vy=2.9453508832261703 vz=0.2674434969050219>\n",
      "---------------------------------\n"
     ]
    }
   ],
   "source": [
    "sim = sa[2]\n",
    "sim.integrator_synchronize() # need this step with new sim archive because we used safe_mode = 0\n",
    "sim.status()"
   ]
  },
  {
   "cell_type": "markdown",
   "metadata": {},
   "source": [
    "I can't get snapshots to line up with each other exactly, but not a big deal for loading the last snapshot and keeping on going:"
   ]
  },
  {
   "cell_type": "code",
   "execution_count": 20,
   "metadata": {},
   "outputs": [
    {
     "name": "stdout",
     "output_type": "stream",
     "text": [
      "CPU times: user 0 ns, sys: 11.2 ms, total: 11.2 ms\n",
      "Wall time: 8.68 ms\n"
     ]
    },
    {
     "data": {
      "text/plain": [
       "999000000.0049602"
      ]
     },
     "execution_count": 20,
     "metadata": {},
     "output_type": "execute_result"
    }
   ],
   "source": [
    "%%time\n",
    "sa = rebound.SimulationArchive(datafolder+'resonant/simulation_archives/runs/sa0000001.bin')\n",
    "sim = sa[-1]\n",
    "sim.integrator_synchronize()\n",
    "sim.t"
   ]
  },
  {
   "cell_type": "code",
   "execution_count": 21,
   "metadata": {},
   "outputs": [
    {
     "name": "stdout",
     "output_type": "stream",
     "text": [
      "CPU times: user 33.4 s, sys: 12 ms, total: 33.4 s\n",
      "Wall time: 33.4 s\n"
     ]
    }
   ],
   "source": [
    "%%time\n",
    "try:\n",
    "    sim.integrate(1.0001e9, exact_finish_time=0)\n",
    "except:\n",
    "    print('collision at t=', sim.t)"
   ]
  },
  {
   "cell_type": "markdown",
   "metadata": {},
   "source": [
    "# Get ejections"
   ]
  },
  {
   "cell_type": "code",
   "execution_count": 3,
   "metadata": {},
   "outputs": [],
   "source": [
    "def test_ejection(row):\n",
    "    try:\n",
    "        sa = rebound.SimulationArchive(datafolder+'resonant/simulation_archives/runs/sa'+row['runstring'])\n",
    "    except:\n",
    "        return False\n",
    "    sim = sa[-1]\n",
    "\n",
    "    ejection = False\n",
    "    for p in sim.particles[1:]:\n",
    "        if p.a < 0:\n",
    "            ejection = True\n",
    "    return ejection"
   ]
  },
  {
   "cell_type": "code",
   "execution_count": 4,
   "metadata": {},
   "outputs": [
    {
     "name": "stderr",
     "output_type": "stream",
     "text": [
      "/mnt/ssd/home/dtamayo/workspace/rebound/rebound/simulationarchive.py:89: RuntimeWarning: Binary file was saved with a different version of REBOUND. Binary format might have changed.\n",
      "  warnings.warn(message, RuntimeWarning)\n",
      "/mnt/ssd/home/dtamayo/workspace/rebound/rebound/simulationarchive.py:138: RuntimeWarning: Binary file was saved with a different version of REBOUND. Binary format might have changed.\n",
      "  warnings.warn(message, RuntimeWarning)\n",
      "/mnt/ssd/home/dtamayo/workspace/rebound/rebound/simulationarchive.py:138: RuntimeWarning: Encountered unkown field in file. File might have been saved with a different version of REBOUND.\n",
      "  warnings.warn(message, RuntimeWarning)\n"
     ]
    },
    {
     "name": "stdout",
     "output_type": "stream",
     "text": [
      "Num ejections =  65\n",
      "CPU times: user 38.8 s, sys: 23.9 s, total: 1min 2s\n",
      "Wall time: 1min 9s\n"
     ]
    }
   ],
   "source": [
    "%%time\n",
    "df = pd.read_csv(datafolder+'resonant/labels.csv', index_col=0)\n",
    "df['ejection'] = df.apply(test_ejection, axis=1)\n",
    "df.to_csv('resonantejections.csv', encoding='ascii')\n",
    "print('Num ejections = ', df['ejection'].sum())"
   ]
  }
 ],
 "metadata": {
  "kernelspec": {
   "display_name": "Python 3 (ipykernel)",
   "language": "python",
   "name": "python3"
  },
  "language_info": {
   "codemirror_mode": {
    "name": "ipython",
    "version": 3
   },
   "file_extension": ".py",
   "mimetype": "text/x-python",
   "name": "python",
   "nbconvert_exporter": "python",
   "pygments_lexer": "ipython3",
   "version": "3.12.4"
  }
 },
 "nbformat": 4,
 "nbformat_minor": 4
}
