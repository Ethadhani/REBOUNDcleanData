{
 "cells": [
  {
   "cell_type": "code",
   "execution_count": 1,
   "metadata": {},
   "outputs": [],
   "source": [
    "import pandas as pd\n",
    "import numpy as np\n",
    "import sys"
   ]
  },
  {
   "cell_type": "markdown",
   "metadata": {},
   "source": []
  },
  {
   "cell_type": "markdown",
   "metadata": {},
   "source": []
  },
  {
   "cell_type": "code",
   "execution_count": 2,
   "metadata": {},
   "outputs": [],
   "source": [
    "randomejections = pd.read_csv('randomejections.csv')\n",
    "resonantejections = pd.read_csv('resonantejections.csv')"
   ]
  },
  {
   "cell_type": "code",
   "execution_count": 3,
   "metadata": {},
   "outputs": [],
   "source": [
    "#lables for columns of Initial conditions and lables\n",
    "col = ['p0m','p0x','p0y','p0z','p0vx','p0vy','p0vz','p1m','p1x','p1y','p1z','p1vx','p1vy','p1vz','p2m','p2x','p2y','p2z','p2vx','p2vy','p2vz','p3m','p3x','p3y','p3z','p3vx','p3vy','p3vz']\n",
    "lab = ['runstring', 'instability_time',\n",
    "       'shadow_instability_time', 'Stable']"
   ]
  },
  {
   "cell_type": "code",
   "execution_count": 4,
   "metadata": {},
   "outputs": [],
   "source": [
    "#load path and data for random datasets\n",
    "randomPath = 'csvs/random/'\n",
    "randomInitial = pd.read_csv(randomPath+'initial_conditions.csv',header=None)\n",
    "randomLables = pd.read_csv(randomPath+'labels.csv')\n",
    "randomInitial.columns = col #adds lables to initial condition columns\n",
    "randset = pd.DataFrame.join(randomInitial, randomLables) #joins initial conditions and lables"
   ]
  },
  {
   "cell_type": "code",
   "execution_count": 5,
   "metadata": {},
   "outputs": [],
   "source": [
    "#load path and data for resonant datasets\n",
    "resPath = 'csvs/resonant/'\n",
    "resInitial = pd.read_csv(resPath+'initial_conditions.csv',header=None)\n",
    "resLables = pd.read_csv(resPath+'labels.csv')\n",
    "resInitial.columns = col #adds lables to initial condition columns\n",
    "resset = pd.DataFrame.join(resInitial, resLables) #joins initial conditions and lables"
   ]
  },
  {
   "cell_type": "code",
   "execution_count": 6,
   "metadata": {},
   "outputs": [],
   "source": [
    "#combines dataset with ejection data based on runstring\n",
    "randset = pd.merge(randset,randomejections[['runstring','ejection']],on='runstring')\n",
    "resset = pd.merge(resset,resonantejections[['runstring','ejection']],on='runstring')"
   ]
  },
  {
   "cell_type": "code",
   "execution_count": 8,
   "metadata": {},
   "outputs": [],
   "source": [
    "#removes junk columns\n",
    "randset = randset.drop('Unnamed: 0',axis=1)\n",
    "resset = resset.drop('Unnamed: 0',axis=1)"
   ]
  },
  {
   "cell_type": "code",
   "execution_count": 9,
   "metadata": {},
   "outputs": [
    {
     "name": "stdout",
     "output_type": "stream",
     "text": [
      "random:\n",
      "ejection\n",
      "False    24941\n",
      "True        59\n",
      "Name: count, dtype: int64\n",
      "resonant:\n",
      "ejection\n",
      "False    113478\n",
      "True         65\n",
      "Name: count, dtype: int64\n"
     ]
    }
   ],
   "source": [
    "#checking how many ejection systems exist\n",
    "print('random:')\n",
    "print(randset['ejection'].value_counts())\n",
    "print('resonant:')\n",
    "print(resset['ejection'].value_counts())"
   ]
  },
  {
   "cell_type": "code",
   "execution_count": 10,
   "metadata": {},
   "outputs": [],
   "source": [
    "#finds duplicates and lables them, this will lable all duplicates, other than the first appereance\n",
    "randset['isDup']=randset[col].duplicated()\n",
    "resset['isDup']=resset[col].duplicated()"
   ]
  },
  {
   "cell_type": "code",
   "execution_count": 11,
   "metadata": {},
   "outputs": [
    {
     "name": "stdout",
     "output_type": "stream",
     "text": [
      "random:\n",
      "isDup\n",
      "False    25000\n",
      "Name: count, dtype: int64\n",
      "resonant:\n",
      "isDup\n",
      "False    102559\n",
      "True      10984\n",
      "Name: count, dtype: int64\n"
     ]
    }
   ],
   "source": [
    "#checking how many duplicated systems in each dataset\n",
    "print('random:')\n",
    "print(randset['isDup'].value_counts())\n",
    "print('resonant:')\n",
    "print(resset['isDup'].value_counts())"
   ]
  },
  {
   "cell_type": "code",
   "execution_count": 12,
   "metadata": {},
   "outputs": [],
   "source": [
    "#labeling each row as to whether or not it should be removed\n",
    "randset['remove']=(randset['ejection']==True) | (randset['isDup']==True)\n",
    "resset['remove']=(resset['ejection']==True) | (resset['isDup']==True)\n"
   ]
  },
  {
   "cell_type": "code",
   "execution_count": 13,
   "metadata": {},
   "outputs": [
    {
     "name": "stdout",
     "output_type": "stream",
     "text": [
      "random:\n",
      "remove\n",
      "False    24941\n",
      "True        59\n",
      "Name: count, dtype: int64\n",
      "resonant:\n",
      "remove\n",
      "False    102497\n",
      "True      11046\n",
      "Name: count, dtype: int64\n"
     ]
    }
   ],
   "source": [
    "#determining how many total systems need to be dropped\n",
    "print('random:')\n",
    "print(randset['remove'].value_counts())\n",
    "print('resonant:')\n",
    "print(resset['remove'].value_counts())"
   ]
  },
  {
   "cell_type": "code",
   "execution_count": 14,
   "metadata": {},
   "outputs": [],
   "source": [
    "#removes the bad samples\n",
    "randset = randset.drop(randset[randset['remove']==True].index)\n",
    "resset = resset.drop(resset[resset['remove']==True].index)\n"
   ]
  },
  {
   "cell_type": "code",
   "execution_count": 15,
   "metadata": {},
   "outputs": [],
   "source": [
    "#seperates lables from initial conditions\n",
    "cleanrandinitial = randset[col+['runstring']]\n",
    "cleanrandlables = randset[lab]\n",
    "cleanresinitial = resset[col+['runstring']]\n",
    "cleanreslables = resset[lab]"
   ]
  },
  {
   "cell_type": "code",
   "execution_count": 16,
   "metadata": {},
   "outputs": [],
   "source": [
    "#saves clean data\n",
    "cleanrandinitial.to_csv(randomPath+'clean_initial_conditions.csv')\n",
    "cleanrandlables.to_csv(randomPath+'clean_labels.csv')\n",
    "cleanresinitial.to_csv(resPath+'clean_initial_conditions.csv')\n",
    "cleanreslables.to_csv(resPath+'clean_labels.csv')\n"
   ]
  },
  {
   "cell_type": "code",
   "execution_count": null,
   "metadata": {},
   "outputs": [],
   "source": []
  }
 ],
 "metadata": {
  "kernelspec": {
   "display_name": "ethadhani",
   "language": "python",
   "name": "python3"
  },
  "language_info": {
   "codemirror_mode": {
    "name": "ipython",
    "version": 3
   },
   "file_extension": ".py",
   "mimetype": "text/x-python",
   "name": "python",
   "nbconvert_exporter": "python",
   "pygments_lexer": "ipython3",
   "version": "3.10.13"
  }
 },
 "nbformat": 4,
 "nbformat_minor": 2
}
